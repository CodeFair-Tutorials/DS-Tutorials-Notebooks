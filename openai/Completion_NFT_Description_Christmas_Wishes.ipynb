{
  "nbformat": 4,
  "nbformat_minor": 0,
  "metadata": {
    "colab": {
      "name": "Completion_NFT_Description_Christmas_Wishes.ipynb",
      "provenance": [],
      "collapsed_sections": [],
      "toc_visible": true
    },
    "kernelspec": {
      "name": "python3",
      "display_name": "Python 3"
    },
    "language_info": {
      "name": "python"
    }
  },
  "cells": [
    {
      "cell_type": "markdown",
      "source": [
        "# Generate NFT descriptions using OpenAI\n",
        "In this tutorial we will generate custom content for a 10K NFT collection. The content will be the following:\n",
        "*   Names for the NFT characters\n",
        "*   Secret content (Christmas wishes)\n",
        "*   Promo codes (for different perks)\n",
        "\n",
        "The Youtube tutorial is available [here](https://www.youtube.com/watch?v=e3liIa0EiY8).\n",
        "\n",
        "References:\n",
        "\n",
        "\n",
        "1.   [OpenAI Completions Docs](https://beta.openai.com/docs/guides/completion)\n",
        "2.   [OpenAI Chat example](https://beta.openai.com/playground/p/default-chat)\n",
        "3.   [Generate Names in Python](https://moonbooks.org/Articles/How-to-generate-random-names-first-and-last-names-with-python-/)\n",
        "4.   [Generate Promocodes](https://stackoverflow.com/questions/2112436/generating-promotion-code-using-python)\n",
        "\n",
        "\n",
        "\n",
        "\n"
      ],
      "metadata": {
        "id": "qYkvd2oOu6ri"
      }
    },
    {
      "cell_type": "markdown",
      "metadata": {
        "id": "r2yUwqnWZbi_"
      },
      "source": [
        "#Setup"
      ]
    },
    {
      "cell_type": "code",
      "execution_count": 1,
      "metadata": {
        "id": "Sh3IasvNuPOd"
      },
      "outputs": [],
      "source": [
        "PATH = r'<DIR_DRIVE>'\n",
        "start_sequence = \"\\nAI:\"\n",
        "restart_sequence = \"\\nHuman: \"\n",
        "\n",
        "name_list = []\n",
        "wishes = []\n",
        "promocodes = []\n",
        "N = 10"
      ]
    },
    {
      "cell_type": "markdown",
      "metadata": {
        "id": "1QSJ81agVz7N"
      },
      "source": [
        "## Install libraries"
      ]
    },
    {
      "cell_type": "code",
      "source": [
        "!pip install names\n",
        "!pip install python-dotenv\n",
        "!pip install --upgrade openai"
      ],
      "metadata": {
        "id": "lvAWw6dsy2U4"
      },
      "execution_count": null,
      "outputs": []
    },
    {
      "cell_type": "markdown",
      "metadata": {
        "id": "f5hsk5hPV7oY"
      },
      "source": [
        "## Mount Drive"
      ]
    },
    {
      "cell_type": "code",
      "metadata": {
        "id": "W5eal70EV_gP"
      },
      "source": [
        "from google.colab import drive\n",
        "drive.mount('/content/gdrive')"
      ],
      "execution_count": null,
      "outputs": []
    },
    {
      "cell_type": "markdown",
      "metadata": {
        "id": "kn4eBRGGk6py"
      },
      "source": [
        "*load environment variables*"
      ]
    },
    {
      "cell_type": "code",
      "metadata": {
        "id": "Dps0qLhok-lX"
      },
      "source": [
        "from dotenv import load_dotenv\n",
        "\n",
        "load_dotenv(PATH+'.env')"
      ],
      "execution_count": null,
      "outputs": []
    },
    {
      "cell_type": "markdown",
      "metadata": {
        "id": "jTh2qQMTV5Dz"
      },
      "source": [
        "## Import libraries"
      ]
    },
    {
      "cell_type": "code",
      "source": [
        "from random import shuffle, seed\n",
        "import pandas as pd\n",
        "import openai\n",
        "import names\n",
        "from dotenv import load_dotenv\n",
        "import base64\n",
        "import os\n",
        "\n",
        "openai.api_key = os.getenv('OPENAI_API_KEY')"
      ],
      "metadata": {
        "id": "_YCDBsWXzHqP"
      },
      "execution_count": 6,
      "outputs": []
    },
    {
      "cell_type": "markdown",
      "source": [
        "# Generate content"
      ],
      "metadata": {
        "id": "5wsoJsa-1ihd"
      }
    },
    {
      "cell_type": "markdown",
      "source": [
        "## Function to generate promocode"
      ],
      "metadata": {
        "id": "gzq7lNik16Ys"
      }
    },
    {
      "cell_type": "code",
      "source": [
        "def secure_rand(len=8):\n",
        "    token=os.urandom(len)\n",
        "    return base64.b64encode(token).decode(\"utf-8\")"
      ],
      "metadata": {
        "id": "JW5UhRFc19J6"
      },
      "execution_count": 12,
      "outputs": []
    },
    {
      "cell_type": "markdown",
      "source": [
        "## Main Loop"
      ],
      "metadata": {
        "id": "juUGDcIT1nAu"
      }
    },
    {
      "cell_type": "code",
      "source": [
        "for i in range(N+1):\n",
        "    name_list.append(names.get_first_name()+\" #\" + str(i+1))\n",
        "    response = openai.Completion.create(\n",
        "        engine=\"ada\",\n",
        "        prompt=\"The following is a conversation with an AI assistant. The assistant is helpful, creative, clever, and very friendly.\\n\\nHuman: Hello, who are you?\\nAI: I am an AI created by OpenAI. How can I help you today?\\nHuman: wish me a merry christmas\\nAI:\",\n",
        "        temperature=0.9,\n",
        "        max_tokens=150,\n",
        "        top_p=1,\n",
        "        frequency_penalty=0,\n",
        "        presence_penalty=0.6,\n",
        "        stop=[\"\\n\", \" Human:\", \" AI:\"]\n",
        "    )\n",
        "    wishes.append(response[\"choices\"][0][\"text\"])\n",
        "    promocodes.append(secure_rand())"
      ],
      "metadata": {
        "id": "kz-kV2hN1oqn"
      },
      "execution_count": 13,
      "outputs": []
    },
    {
      "cell_type": "markdown",
      "source": [
        "## Dataframe"
      ],
      "metadata": {
        "id": "MbVH2LFl2b8t"
      }
    },
    {
      "cell_type": "code",
      "source": [
        "df = pd.DataFrame()\n",
        "df['wishes'] = wishes[0:N]\n",
        "df['name'] = name_list[0:N]\n",
        "df['promo'] = promocodes[0:N]"
      ],
      "metadata": {
        "id": "wg06sI5O2ehH"
      },
      "execution_count": 14,
      "outputs": []
    },
    {
      "cell_type": "markdown",
      "source": [
        "## Write data"
      ],
      "metadata": {
        "id": "jJlrSq2k2qPS"
      }
    },
    {
      "cell_type": "code",
      "source": [
        "df.to_excel(PATH+'output.xlsx')"
      ],
      "metadata": {
        "id": "YJtlUrDm2r3n"
      },
      "execution_count": 15,
      "outputs": []
    },
    {
      "cell_type": "code",
      "source": [
        "df.head()"
      ],
      "metadata": {
        "id": "VMleL3kN20Jw"
      },
      "execution_count": null,
      "outputs": []
    }
  ]
}