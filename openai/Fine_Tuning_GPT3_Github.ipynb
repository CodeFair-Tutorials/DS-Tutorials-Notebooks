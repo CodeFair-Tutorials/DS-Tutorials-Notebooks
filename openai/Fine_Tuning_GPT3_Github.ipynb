{
  "nbformat": 4,
  "nbformat_minor": 0,
  "metadata": {
    "colab": {
      "name": "Fine-Tuning_GPT3_Github_Tutorial.ipynb",
      "provenance": [],
      "collapsed_sections": []
    },
    "kernelspec": {
      "name": "python3",
      "display_name": "Python 3"
    },
    "language_info": {
      "name": "python"
    }
  },
  "cells": [
    {
      "cell_type": "markdown",
      "metadata": {
        "id": "07bzIBlbS15z"
      },
      "source": [
        "# Fine-Tuning GPT3 model for Github data\n",
        "\n",
        "In this project we will create a model which learns about the codebase from a given organization. In the *TODO* list we have:\n",
        "\n",
        "\n",
        "1.   Access credentials\n",
        "2.   Get data from Github\n",
        "3.   Prepare data for fine-tuning\n",
        "4.   Train the model\n",
        "5.   Test the model\n",
        "\n",
        "The Youtube tutorial is available [here](https://).\n",
        "\n",
        "References:\n",
        "\n",
        "\n",
        "1.   [OpenAI Finetuning Docs](https://beta.openai.com/docs/guides/fine-tuning)\n",
        "2.   [PyGithub Repo](https://github.com/PyGithub/PyGithub)\n",
        "3.   [PyGithub Docs](https://pygithub.readthedocs.io/en/latest/introduction.html)\n",
        "4.   [Github Docs](https://docs.github.com/en/rest/overview)\n",
        "5.   [Github REST Tutorial](https://www.softwaretestinghelp.com/github-rest-api-tutorial/)\n",
        "6.   [Tuning Dataset](https://github.com/matiassingers/awesome-readme)\n",
        "\n"
      ]
    },
    {
      "cell_type": "markdown",
      "metadata": {
        "id": "r2yUwqnWZbi_"
      },
      "source": [
        "#Setup"
      ]
    },
    {
      "cell_type": "code",
      "metadata": {
        "id": "IHaJ3p7lKkS9"
      },
      "source": [
        "PATH = r'<DIR_DRIVE>'"
      ],
      "execution_count": null,
      "outputs": []
    },
    {
      "cell_type": "markdown",
      "metadata": {
        "id": "1QSJ81agVz7N"
      },
      "source": [
        "## Install libraries"
      ]
    },
    {
      "cell_type": "code",
      "metadata": {
        "id": "7OdZPullKtM2"
      },
      "source": [
        "!pip install PyGithub\n",
        "!pip install python-dotenv\n",
        "!pip install --upgrade jsonlines\n",
        "!pip install --upgrade openai"
      ],
      "execution_count": null,
      "outputs": []
    },
    {
      "cell_type": "markdown",
      "metadata": {
        "id": "f5hsk5hPV7oY"
      },
      "source": [
        "## Mount Drive"
      ]
    },
    {
      "cell_type": "code",
      "metadata": {
        "id": "u364ENxFLG_0"
      },
      "source": [
        "from google.colab import drive\n",
        "drive.mount('/content/gdrive')"
      ],
      "execution_count": null,
      "outputs": []
    },
    {
      "cell_type": "markdown",
      "metadata": {
        "id": "kn4eBRGGk6py"
      },
      "source": [
        "*load environment variables*"
      ]
    },
    {
      "cell_type": "code",
      "metadata": {
        "id": "LnNnT0yXLQpF"
      },
      "source": [
        "from dotenv import load_dotenv\n",
        "\n",
        "load_dotenv(PATH+'.env')"
      ],
      "execution_count": null,
      "outputs": []
    },
    {
      "cell_type": "markdown",
      "metadata": {
        "id": "jTh2qQMTV5Dz"
      },
      "source": [
        "## Import libraries"
      ]
    },
    {
      "cell_type": "code",
      "metadata": {
        "id": "7aeKR6b1LZUH"
      },
      "source": [
        "from github import Github\n",
        "import os\n",
        "import jsonlines"
      ],
      "execution_count": null,
      "outputs": []
    },
    {
      "cell_type": "markdown",
      "metadata": {
        "id": "3gJtEgA8Zetg"
      },
      "source": [
        "#Get data from Github repositories"
      ]
    },
    {
      "cell_type": "code",
      "metadata": {
        "id": "lQcNeQJJRwEc"
      },
      "source": [
        "g = Github(os.getenv(\"<YOUR_GITHUB_ACCESS_TOKEN>\"))"
      ],
      "execution_count": null,
      "outputs": []
    },
    {
      "cell_type": "code",
      "metadata": {
        "id": "BdmiXGoUR4WH"
      },
      "source": [
        "repos = g.get_organization(\"<ORG_NAME>\").get_repos()"
      ],
      "execution_count": null,
      "outputs": []
    },
    {
      "cell_type": "markdown",
      "metadata": {
        "id": "ls9OvuV-J8yJ"
      },
      "source": [
        "## Get readme content and associate it with repo"
      ]
    },
    {
      "cell_type": "code",
      "metadata": {
        "id": "k7Awdin0dk5c"
      },
      "source": [
        "jsons = []\n",
        "\n",
        "for repo in repos:\n",
        "  try:\n",
        "    file_content = repo.get_contents(\"README.md\")\n",
        "    jsons.append({\"prompt\": repo.full_name, \"completion\": file_content.decoded_content.decode()})\n",
        "  except Exception:\n",
        "    pass"
      ],
      "execution_count": null,
      "outputs": []
    },
    {
      "cell_type": "code",
      "metadata": {
        "colab": {
          "base_uri": "https://localhost:8080/"
        },
        "id": "LJFoS-hIeY5F",
        "outputId": "c33aaf94-ea58-442b-ca10-52e9154caf52"
      },
      "source": [
        "print(len(jsons))"
      ],
      "execution_count": null,
      "outputs": [
        {
          "output_type": "stream",
          "name": "stdout",
          "text": [
            "52\n"
          ]
        }
      ]
    },
    {
      "cell_type": "code",
      "metadata": {
        "id": "7pRM6g8wfElt"
      },
      "source": [
        "for j in jsons:\n",
        "  print(j)"
      ],
      "execution_count": null,
      "outputs": []
    },
    {
      "cell_type": "markdown",
      "metadata": {
        "id": "mRHQAju7Uj8p"
      },
      "source": [
        "## Write data in JSONL file"
      ]
    },
    {
      "cell_type": "code",
      "metadata": {
        "id": "e2rVfD6qevib"
      },
      "source": [
        "with jsonlines.open(PATH+'test.jsonl', 'w') as writer:\n",
        "  writer.write_all(jsons)"
      ],
      "execution_count": null,
      "outputs": []
    },
    {
      "cell_type": "markdown",
      "metadata": {
        "id": "WicMLE_tTyGN"
      },
      "source": [
        "# Tune the OpenAI model"
      ]
    },
    {
      "cell_type": "markdown",
      "metadata": {
        "id": "CURUClD6W0Iw"
      },
      "source": [
        "## Prepare data gathered from Github"
      ]
    },
    {
      "cell_type": "code",
      "metadata": {
        "id": "aoyW2qCPfSWC"
      },
      "source": [
        "!openai tools fine_tunes.prepare_data -f '<PATH_TO_test.jsonl>'"
      ],
      "execution_count": null,
      "outputs": []
    },
    {
      "cell_type": "markdown",
      "metadata": {
        "id": "Df5JZ4wMbvLH"
      },
      "source": [
        "## Create de new model"
      ]
    },
    {
      "cell_type": "code",
      "metadata": {
        "id": "-hK5AhVWhnVJ"
      },
      "source": [
        "!openai api fine_tunes.create -t '<PATH_TO_test_prepared.jsonl>\" --no_packing --batch_size 1"
      ],
      "execution_count": null,
      "outputs": []
    },
    {
      "cell_type": "markdown",
      "metadata": {
        "id": "YAtA4PX0by-2"
      },
      "source": [
        "## Test the new model"
      ]
    },
    {
      "cell_type": "code",
      "metadata": {
        "id": "xdCtAlDriZ0D"
      },
      "source": [
        "import openai\n",
        "openai.Completion.create(\n",
        "    model='<YOUR_MODEL_NAME>',\n",
        "    prompt='<YOUR_PROMPT>')\n"
      ],
      "execution_count": null,
      "outputs": []
    }
  ]
}
