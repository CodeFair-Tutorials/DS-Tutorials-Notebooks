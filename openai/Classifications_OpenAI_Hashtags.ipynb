{
  "nbformat": 4,
  "nbformat_minor": 0,
  "metadata": {
    "colab": {
      "name": "Classifications_OpenAI_Hashtags.ipynb",
      "provenance": []
    },
    "kernelspec": {
      "name": "python3",
      "display_name": "Python 3"
    },
    "language_info": {
      "name": "python"
    }
  },
  "cells": [
    {
      "cell_type": "markdown",
      "metadata": {
        "id": "gz9Ij5xbPQiK"
      },
      "source": [
        "# Generate TikTok *#hashtags* with OpenAI \n",
        "\n",
        "In this project we will create a classification using OpenAI to generate hashtags for tiktok descriptions.\n",
        "\n",
        "In the *TODO* list we have:\n",
        "\n",
        "1.   Access credentials\n",
        "2.   Get data from TikTok\n",
        "3.   Prepare data for classification\n",
        "4.   Test the classification\n",
        "\n",
        "The Youtube tutorial is available [here](https://).\n",
        "\n",
        "References:\n",
        "\n",
        "1.   [Classification OpenAI API Docs](https://beta.openai.com/docs/guides/classifications)\n",
        "2.   [TikTok API Wrapper](https://github.com/davidteather/TikTok-Api)  \n",
        "3.   [Async API](https://stackoverflow.com/questions/47518874/how-do-i-run-python-asyncio-code-in-a-jupyter-notebook)\n",
        "4.   ['TikTokApi' object has no attribute 'region'](https://github.com/davidteather/TikTok-Api/issues/672\n",
        ")\n",
        "5.   [Selenium and Google Colab](https://github.com/davidteather/TikTok-Api/issues/548\n",
        ")\n",
        "6.   [byHashtag not working anymore](https://github.com/davidteather/TikTok-Api/issues/631)\n",
        "7.   [TikTok sent invalid JSON back](https://github.com/davidteather/TikTok-Api/issues/392)\n",
        "8.   [David's Tutorial](https://www.youtube.com/watch?v=zwLmLfVI-VQ)\n",
        "9.   [Hashtags](https://influencermarketinghub.com/top-tiktok-hashtags/)\n",
        "10.  [Playwright](https://playwright.dev/docs/intro/)"
      ]
    },
    {
      "cell_type": "markdown",
      "metadata": {
        "id": "r2yUwqnWZbi_"
      },
      "source": [
        "#Setup"
      ]
    },
    {
      "cell_type": "code",
      "metadata": {
        "id": "6aEPAYzOPHkT"
      },
      "source": [
        "PATH = r'<DIR_DRIVE>'"
      ],
      "execution_count": 1,
      "outputs": []
    },
    {
      "cell_type": "markdown",
      "metadata": {
        "id": "1QSJ81agVz7N"
      },
      "source": [
        "## Install libraries"
      ]
    },
    {
      "cell_type": "code",
      "metadata": {
        "id": "jpz8wVcFPiWt"
      },
      "source": [
        "!pip install TikTokApi\n",
        "!pip install python-dotenv\n",
        "!pip install --upgrade jsonlines\n",
        "!pip install --upgrade openai\n",
        "!pip install google\n",
        "!python -m pip install playwright\n",
        "!apt install libgstreamer1.0-0 libwoff1 libgstreamer1.0-0 libgstreamer1.0-dev libgstreamer-plugins-good1.0-0 libgstreamer-gl1.0-0 libgstreamer-plugins-bad1.0-0"
      ],
      "execution_count": null,
      "outputs": []
    },
    {
      "cell_type": "code",
      "metadata": {
        "id": "FrIdE96aQGMl"
      },
      "source": [
        "!playwright install"
      ],
      "execution_count": null,
      "outputs": []
    },
    {
      "cell_type": "code",
      "metadata": {
        "id": "jA4ca4eIQGV5"
      },
      "source": [
        "!playwright install-deps"
      ],
      "execution_count": null,
      "outputs": []
    },
    {
      "cell_type": "markdown",
      "metadata": {
        "id": "f5hsk5hPV7oY"
      },
      "source": [
        "## Mount Drive"
      ]
    },
    {
      "cell_type": "code",
      "metadata": {
        "id": "u364ENxFLG_0"
      },
      "source": [
        "from google.colab import drive\n",
        "drive.mount('/content/gdrive')"
      ],
      "execution_count": null,
      "outputs": []
    },
    {
      "cell_type": "markdown",
      "metadata": {
        "id": "kn4eBRGGk6py"
      },
      "source": [
        "*load environment variables*"
      ]
    },
    {
      "cell_type": "code",
      "metadata": {
        "id": "LnNnT0yXLQpF"
      },
      "source": [
        "from dotenv import load_dotenv\n",
        "\n",
        "load_dotenv(PATH+'.env')"
      ],
      "execution_count": null,
      "outputs": []
    },
    {
      "cell_type": "markdown",
      "metadata": {
        "id": "jTh2qQMTV5Dz"
      },
      "source": [
        "## Import libraries"
      ]
    },
    {
      "cell_type": "code",
      "metadata": {
        "id": "7aeKR6b1LZUH"
      },
      "source": [
        "import os\n",
        "import jsonlines"
      ],
      "execution_count": 4,
      "outputs": []
    },
    {
      "cell_type": "markdown",
      "metadata": {
        "id": "trMudtupe6kw"
      },
      "source": [
        "## Asyncio"
      ]
    },
    {
      "cell_type": "code",
      "metadata": {
        "id": "ZLTxu3t1Qd50"
      },
      "source": [
        "import asyncio\n",
        "from ipykernel.eventloops import register_integration\n",
        "\n",
        "@register_integration('asyncio')\n",
        "def loop_asyncio(kernel):\n",
        "    '''Start a kernel with asyncio event loop support.'''\n",
        "    loop = asyncio.get_event_loop()\n",
        "\n",
        "    def kernel_handler():\n",
        "        loop.call_soon(kernel.do_one_iteration)\n",
        "        loop.call_later(kernel._poll_interval, kernel_handler)\n",
        "\n",
        "    loop.call_soon(kernel_handler)\n",
        "    try:\n",
        "        if not loop.is_running():\n",
        "            loop.run_forever()\n",
        "    finally:\n",
        "        loop.run_until_complete(loop.shutdown_asyncgens())\n",
        "        loop.close()\n"
      ],
      "execution_count": 5,
      "outputs": []
    },
    {
      "cell_type": "markdown",
      "metadata": {
        "id": "OWxgH9JfDyQJ"
      },
      "source": [
        "#Prepare data from TikTok"
      ]
    },
    {
      "cell_type": "markdown",
      "metadata": {
        "id": "637DjFvLNChZ"
      },
      "source": [
        "## Hashtags"
      ]
    },
    {
      "cell_type": "code",
      "metadata": {
        "id": "uSDjCHzQQk8H"
      },
      "source": [
        "%%writefile tags.py\n",
        "\n",
        "hashtags = [\n",
        "              \"#tiktok\",\n",
        "              \"#love\",\n",
        "              \"#like\",\n",
        "              \"#follow\",\n",
        "              \"#explore\"\n",
        "              \"#meme\",\n",
        "              \"#video\",\n",
        "              \"#followforfollowback\",\n",
        "              \"#foryoupage\",\n",
        "              \"#fyp\",\n",
        "              \"#foryou\",\n",
        "              \"#viral\",\n",
        "              \"#funny\",\n",
        "              \"#followme\",\n",
        "              \"#cute\",\n",
        "              \"#fun\",\n",
        "              \"#music\",\n",
        "              \"#happy\",\n",
        "              \"#fashion\",\n",
        "              \"#comedy\",\n",
        "              \"#bestvideo\",\n",
        "              \"#tiktok4fun\",\n",
        "              \"#thisis4u\",\n",
        "              \"#loveyoutiktok\",\n",
        "    \n",
        "]"
      ],
      "execution_count": null,
      "outputs": []
    },
    {
      "cell_type": "markdown",
      "metadata": {
        "id": "D5kQfDVtPweI"
      },
      "source": [
        "## Get data by hashtag"
      ]
    },
    {
      "cell_type": "code",
      "metadata": {
        "id": "eSzhCAvyQpt-"
      },
      "source": [
        "%%writefile main.py\n",
        "\n",
        "from TikTokApi import TikTokApi\n",
        "from tags import *\n",
        "import jsonlines\n",
        "import os\n",
        "\n",
        "api = TikTokApi.get_instance(custom_verifyFp=os.getenv(\"TIKTOK_COOKIE\"), use_test_endpoints=True)\n",
        "jsons = []\n",
        "count = 100\n",
        "\n",
        "for tag in hashtags:\n",
        "  try:\n",
        "    tiktoks = api.by_hashtag(tag, count=count)\n",
        "    for tiktok in tiktoks:\n",
        "      jsons.append({\n",
        "          \"text\": tiktok['desc'],\n",
        "          \"label\": tag[1:],\n",
        "          \"metadata\": {\n",
        "              \"source\": \"tiktok.com\"\n",
        "          }\n",
        "\n",
        "      })\n",
        "  except:\n",
        "    pass\n",
        "\n",
        "print(len(jsons))\n",
        "\n",
        "with jsonlines.open('tiktok.jsonl', 'w') as writer:\n",
        "  writer.write_all(jsons)"
      ],
      "execution_count": null,
      "outputs": []
    },
    {
      "cell_type": "markdown",
      "metadata": {
        "id": "819HxQjVQqka"
      },
      "source": [
        "*run main.py*"
      ]
    },
    {
      "cell_type": "code",
      "metadata": {
        "id": "fUDdu4HSQtHK"
      },
      "source": [
        "!python main.py"
      ],
      "execution_count": null,
      "outputs": []
    },
    {
      "cell_type": "markdown",
      "metadata": {
        "id": "XrpN09wdGCS4"
      },
      "source": [
        "# Classify post and find hashtags with OpenAI"
      ]
    },
    {
      "cell_type": "markdown",
      "metadata": {
        "id": "n8q9M4-nGYTI"
      },
      "source": [
        "## Create classification from jsonl"
      ]
    },
    {
      "cell_type": "code",
      "metadata": {
        "id": "YUielNQTQzR7"
      },
      "source": [
        "import openai\n",
        "openai.File.create(file=open(\"tiktok.jsonl\"), purpose=\"classifications\")"
      ],
      "execution_count": null,
      "outputs": []
    },
    {
      "cell_type": "markdown",
      "metadata": {
        "id": "zWetCAL7GnYH"
      },
      "source": [
        "## Test classification"
      ]
    },
    {
      "cell_type": "code",
      "metadata": {
        "id": "Wk0_LqLIQ3IW"
      },
      "source": [
        "openai.Classification.create(\n",
        "    file=\"<YOUR_FILE_MODEL>\",\n",
        "    query=\"<YOUR_PROMPT>\",\n",
        "    search_model=\"ada\", \n",
        "    model=\"curie\", \n",
        "    max_examples=3\n",
        ")"
      ],
      "execution_count": null,
      "outputs": []
    }
  ]
}